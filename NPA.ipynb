{
  "cells": [
    {
      "cell_type": "markdown",
      "metadata": {
        "id": "aAahD-vazwYD"
      },
      "source": [
        "\n",
        "\n",
        "#NPA\n",
        "\n"
      ]
    },
    {
      "cell_type": "code",
      "execution_count": 1,
      "metadata": {
        "colab": {
          "base_uri": "https://localhost:8080/"
        },
        "id": "dv1L7uj5xrnp",
        "outputId": "ecff4e3e-b01c-4f98-91da-da726e223cc6"
      },
      "outputs": [
        {
          "name": "stdout",
          "output_type": "stream",
          "text": [
            "Status: optimal\n",
            "Optimal value: 2.8284270597785017\n",
            "CX1: 0.0\n",
            "CX2: 0.0\n",
            "CY1: 0.0\n",
            "CY2: 0.0\n",
            "CX1CY1: 0.7071067649446258\n",
            "CX1CY2: 0.7071067649446257\n",
            "CX2CY1: 0.7071067649446248\n",
            "CX2CY2: -0.7071067649446252\n",
            "V: (-1.338029968797738e-16+0j)\n",
            "U: (-1.102890910373902e-16+0j)\n"
          ]
        }
      ],
      "source": [
        "#importing the essential Libraries\n",
        "import cvxpy as cp\n",
        "import numpy as np\n",
        "\n",
        "# Define variables\n",
        "CX1 = cp.Variable()\n",
        "CX2 = cp.Variable()\n",
        "CY1 = cp.Variable()\n",
        "CY2 = cp.Variable()\n",
        "CX1CY1 = cp.Variable()\n",
        "CX1CY2 = cp.Variable()\n",
        "CX2CY1 = cp.Variable()\n",
        "CX2CY2 = cp.Variable()\n",
        "V = cp.Variable(complex=True)\n",
        "U = cp.Variable(complex=True)\n",
        "\n",
        "# Define the expression gamma\n",
        "gamma = cp.Variable((5, 5), complex=True)\n",
        "gamma = cp.bmat([\n",
        "    [1, CX1, CX2, CY1, CY2],\n",
        "    [CX1, 1, U, CX1CY1, CX1CY2],\n",
        "    [CX2, cp.conj(U), 1, CX2CY1, CX2CY2],\n",
        "    [CY1, CX1CY1, CX2CY1, 1, V],\n",
        "    [CY2, CX1CY2, CX2CY2, cp.conj(V), 1]\n",
        "])\n",
        "\n",
        "# Define the objective function\n",
        "objective = cp.Maximize(CX1CY1 + CX1CY2 + CX2CY1 - CX2CY2)\n",
        "\n",
        "# Define the constraints\n",
        "constraints = [\n",
        "    CX1 >= -1, CX1 <= 1,\n",
        "    CX2 >= -1, CX2 <= 1,\n",
        "    CY1 >= -1, CY1 <= 1,\n",
        "    CY2 >= -1, CY2 <= 1,\n",
        "    CX1CY1 >= -1, CX1CY1 <= 1,\n",
        "    CX1CY2 >= -1, CX1CY2 <= 1,\n",
        "    CX2CY1 >= -1, CX2CY1 <= 1,\n",
        "    CX2CY2 >= -1, CX2CY2 <= 1,\n",
        "    cp.real(V) >= -1, cp.real(V) <= 1,\n",
        "    cp.imag(V) >= -1, cp.imag(V) <= 1,\n",
        "    cp.real(U) >= -1, cp.real(U) <= 1,\n",
        "    cp.imag(U) >= -1, cp.imag(U) <= 1,\n",
        "    gamma >> 0,  # Hermitian positive semidefinite constraint\n",
        "    gamma == cp.conj(gamma.T)\n",
        "]\n",
        "\n",
        "# Solve the problem\n",
        "problem = cp.Problem(objective, constraints)\n",
        "problem.solve()\n",
        "\n",
        "# Output the results\n",
        "print(\"Status:\", problem.status)\n",
        "print(\"Optimal value:\", problem.value)\n",
        "print(\"CX1:\", CX1.value)\n",
        "print(\"CX2:\", CX2.value)\n",
        "print(\"CY1:\", CY1.value)\n",
        "print(\"CY2:\", CY2.value)\n",
        "print(\"CX1CY1:\", CX1CY1.value)\n",
        "print(\"CX1CY2:\", CX1CY2.value)\n",
        "print(\"CX2CY1:\", CX2CY1.value)\n",
        "print(\"CX2CY2:\", CX2CY2.value)\n",
        "print(\"V:\", V.value)\n",
        "print(\"U:\", U.value)"
      ]
    }
  ],
  "metadata": {
    "colab": {
      "collapsed_sections": [
        "aAahD-vazwYD",
        "H0BHp8VwzqHo"
      ],
      "provenance": [],
      "toc_visible": true
    },
    "kernelspec": {
      "display_name": "Python 3",
      "name": "python3"
    },
    "language_info": {
      "name": "python"
    }
  },
  "nbformat": 4,
  "nbformat_minor": 0
}
